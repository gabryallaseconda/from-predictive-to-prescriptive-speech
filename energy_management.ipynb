{
 "cells": [
  {
   "cell_type": "markdown",
   "metadata": {},
   "source": [
    "# Energy Management Example"
   ]
  },
  {
   "cell_type": "markdown",
   "metadata": {},
   "source": [
    "## Narrative\n",
    "\n",
    "Your company must decide how to mix the various forms of available energy:\n",
    "\n",
    "- Nuclear: only ignition cost, generates constant energy\n",
    "- Wind: only cost per kw, but not constant\n",
    "- Gas: ignition cost each period plus cost per kw, you have to decide if and how much to produce, there exist an upper bound\n",
    "- External purchase: buy energy from external providers but at a very high price\n",
    "\n",
    "Energy demand is variable.\n",
    "\n",
    "\n",
    "\n",
    "\\begin{equation*}\n",
    "\\begin{aligned}\n",
    "&\\text{minimize} \\sum_{\\text{scenarios } s} \\sum_{\\text{periods } t} (&\\text{nuclear-activation-cost}[s] +& \\\\\n",
    "&& \\text{gas-activation-cost[t, s]} +& \\\\\n",
    "&& \\text{gas-production}[t, s] +&\\\\\n",
    "&& \\text{wind-production}[t, s] +&\\\\\n",
    "&& \\text{external-purchase}[t,s] +&\\\\\n",
    "&&& ) \\times \\text{probability}[s]\n",
    "\\end{aligned}\n",
    "\\end{equation*}\n",
    "\n"
   ]
  },
  {
   "cell_type": "markdown",
   "metadata": {},
   "source": [
    "## Libraries"
   ]
  },
  {
   "cell_type": "code",
   "execution_count": 21,
   "metadata": {},
   "outputs": [],
   "source": [
    "import numpy as np\n",
    "import random\n",
    "import pyomo.environ as pyo\n",
    "\n",
    "BIG_M = 10000\n",
    "\n"
   ]
  },
  {
   "cell_type": "markdown",
   "metadata": {},
   "source": [
    "## Cost Function Approximation\n"
   ]
  },
  {
   "cell_type": "markdown",
   "metadata": {},
   "source": [
    "### Data"
   ]
  },
  {
   "cell_type": "code",
   "execution_count": 22,
   "metadata": {},
   "outputs": [],
   "source": [
    "num_step = 3\n",
    "scenarios_by_step = 6\n",
    "\n",
    "all_scenarios = list(range(1, scenarios_by_step**num_step+1))\n",
    "\n",
    "\n",
    "high_wind_probability = .6\n",
    "low_wind_probability = .4\n",
    "\n",
    "low_demand_probability = .3\n",
    "medium_demand_probability = .4\n",
    "high_demand_probability = .3\n",
    "\n",
    "\n",
    "demands = {1: [17000, 12000, 10000],\n",
    "           2: [12000, 10000, 80000],\n",
    "           3: [18000, 15000, 90000]}\n",
    "\n",
    "\n",
    "\n",
    "data = {}\n",
    "\n",
    "data.update({'S' : all_scenarios})\n",
    "data.update({'T' : list(range(1, num_step+1))})\n",
    "\n",
    "\n",
    "non_ant_sets = {}\n",
    "for t in range(num_step):\n",
    "    elements = scenarios_by_step**(num_step-t)\n",
    "    groups = scenarios_by_step**(t)\n",
    "    non_ant_sets.update({t+1 : [ all_scenarios[i:i+elements] for i in range(0, groups) ]})\n",
    "\n",
    "data.update({'NonAnt' : non_ant_sets})\n",
    "\n",
    "\n",
    "data.update({'cost_activate_nuc' : {None: 30000}})\n",
    "data.update({'power_nuc' : {None: 15000}})\n",
    "\n",
    "data.update({'cost_activate_gas' : {None: 50}})\n",
    "data.update({'cost_kw_gas' : {None: 3}})\n",
    "data.update({'max_power_gas' : {None: 5000}})\n",
    "\n",
    "data.update({'cost_kw_wind' : {None: 2}})\n",
    "\n",
    "data.update({'power_wind_high' : {None: 7000}})\n",
    "data.update({'power_wind_low' : {None: 2000}})\n",
    "data.update({'cost_kw_ext' : {None: 10}})\n",
    "\n",
    "wind_high_param = {}\n",
    "for t in range(num_step):\n",
    "    elements = int(scenarios_by_step**(num_step-t)/2)\n",
    "    my_list = [1]*elements + [0]*elements\n",
    "    my_list = my_list*(scenarios_by_step**(t))\n",
    "\n",
    "    for s, element in enumerate(my_list):\n",
    "        wind_high_param.update({(t+1, s+1):element})\n",
    "\n",
    "wind_low_param = {}\n",
    "for t in range(num_step):\n",
    "    elements = int(scenarios_by_step**(num_step-t)/2)\n",
    "    my_list = [0]*elements + [1]*elements\n",
    "    my_list = my_list*(scenarios_by_step**(t))\n",
    "\n",
    "    for s, element in enumerate(my_list):\n",
    "        wind_low_param.update({(t+1, s+1):element})\n",
    "\n",
    "data.update({'wind_high' : wind_high_param}) \n",
    "data.update({'wind_low' : wind_low_param}) \n",
    "\n",
    "\n",
    "prob_param = {}\n",
    "\n",
    "single_scenario_probabilities = [high_wind_probability * high_demand_probability, \n",
    "                                high_wind_probability * medium_demand_probability,\n",
    "                                high_wind_probability * low_demand_probability,\n",
    "                                low_wind_probability  * high_demand_probability,\n",
    "                                low_wind_probability  * medium_demand_probability,\n",
    "                                low_wind_probability  * low_demand_probability]\n",
    "\n",
    "all_probabilities = [A * B * C \\\n",
    "                     for A in single_scenario_probabilities\n",
    "                     for B in single_scenario_probabilities\n",
    "                     for C in single_scenario_probabilities]\n",
    "\n",
    "for s, element in enumerate(all_probabilities):\n",
    "    prob_param.update({s+1 : element})\n",
    "\n",
    "data.update({'prob' : prob_param})\n",
    "\n",
    "\n",
    "\n",
    "demand_param = {}\n",
    "for t in range(num_step):\n",
    "\n",
    "    current_demand_profile = demands[t+1]\n",
    "\n",
    "    current_demand_profile = current_demand_profile*2\n",
    "\n",
    "    multiply = ((scenarios_by_step)**(num_step-t-1))\n",
    "\n",
    "    current_demand_profile = [item for item in current_demand_profile for _ in range(multiply)]\n",
    "\n",
    "    groups = scenarios_by_step**t\n",
    "\n",
    "    current_demand_profile = current_demand_profile*groups\n",
    "\n",
    "    for s, element in enumerate(current_demand_profile):\n",
    "        demand_param.update({(t+1,s+1) : element})\n",
    "\n",
    "data.update({'demand' : demand_param}) # !!!!\n",
    "\n",
    "data = {None : data}\n"
   ]
  },
  {
   "cell_type": "markdown",
   "metadata": {},
   "source": [
    "### Objective and constraints"
   ]
  },
  {
   "cell_type": "code",
   "execution_count": 23,
   "metadata": {},
   "outputs": [],
   "source": [
    "\n",
    "\n",
    "# Objective function\n",
    "def ObjRule(cfa):\n",
    "        return sum( \n",
    "\n",
    "            (\n",
    "                cfa.nuc_act[s] * cfa.cost_activate_nuc + \\\n",
    "                sum(cfa.gas_act[t,s] * cfa.cost_activate_gas for t in cfa.T) + \\\n",
    "                sum(cfa.gas_qnt[t,s] * cfa.cost_kw_gas for t in cfa.T) + \\\n",
    "                sum(\n",
    "                    (cfa.wind_high[t,s] * cfa.power_wind_high + cfa.wind_low[t,s] * cfa.power_wind_low )\n",
    "                    * cfa.cost_kw_wind for t in cfa.T ) +\\\n",
    "                \n",
    "                sum(cfa.ext_qnt[t,s] * cfa.cost_kw_ext for t in cfa.T)\n",
    "            ) * cfa.prob[s]\n",
    "        \n",
    "            \n",
    "            for s in cfa.S)\n",
    "\n",
    "\n",
    "# Constraints\n",
    "\n",
    "def maxPowerGasRule(cfa, t, s):\n",
    "        return cfa.gas_qnt[t,s] <= cfa.max_power_gas\n",
    "    \n",
    "def activationGas(cfa, t, s):\n",
    "        return cfa.gas_qnt[t,s] <= cfa.gas_act[t,s] * BIG_M\n",
    "\n",
    "def satisfyDemand(cfa, t, s):\n",
    "        return cfa.demand[t,s] <= cfa.power_nuc * cfa.nuc_act[s] + \\\n",
    "            cfa.gas_qnt[t,s] + \\\n",
    "            cfa.ext_qnt[t,s] + \\\n",
    "            cfa.wind_high[t,s] * cfa.power_wind_high + cfa.wind_low[t,s] * cfa.power_wind_low\n"
   ]
  },
  {
   "cell_type": "markdown",
   "metadata": {},
   "source": [
    "### Model"
   ]
  },
  {
   "cell_type": "code",
   "execution_count": 24,
   "metadata": {},
   "outputs": [],
   "source": [
    "\n",
    "\n",
    "cfa = pyo.AbstractModel() # pyomo abstract model\n",
    "\n",
    "# Sets\n",
    "cfa.S = pyo.Set(initialize = list(range(1, scenarios_by_step**num_step+1)))\n",
    "cfa.S.construct()\n",
    "cfa.T = pyo.Set(initialize = list(range(1, num_step+1)))\n",
    "cfa.T.construct()\n",
    "cfa.NonAnt = pyo.Set(cfa.T, initialize = non_ant_sets)\n",
    "cfa.NonAnt.construct()\n",
    "\n",
    "\n",
    "# Parameters\n",
    "cfa.cost_activate_nuc = pyo.Param() # Activate nuclear in one step \n",
    "cfa.power_nuc = pyo.Param()    # Power provided from nuclear (constant)\n",
    "        \n",
    "cfa.cost_activate_gas = pyo.Param() # Activate gas in one step\n",
    "cfa.cost_kw_gas = pyo.Param()  # Cost per kw from gas\n",
    "cfa.max_power_gas = pyo.Param()# Max power from gas\n",
    "\n",
    "cfa.cost_kw_wind = pyo.Param() # Cost per kw from wind\n",
    "cfa.power_wind_high = pyo.Param()\n",
    "cfa.power_wind_low = pyo.Param()\n",
    "\n",
    "cfa.wind_high = pyo.Param(cfa.T, cfa.S) # 1 on wind high scenarions, 0 on wind low ones\n",
    "cfa.wind_low = pyo.Param(cfa.T, cfa.S) # 1 on wind low scenarions, 0 on wind high ones\n",
    "\n",
    "cfa.prob = pyo.Param(cfa.S)\n",
    "\n",
    "cfa.cost_kw_ext = pyo.Param()  # Soft demand satisfaciton constraints\n",
    "\n",
    "cfa.demand = pyo.Param(cfa.T, cfa.S)\n",
    "\n",
    "\n",
    "# Variables\n",
    "cfa.nuc_act = pyo.Var(cfa.S, within=pyo.Binary)\n",
    "cfa.gas_act = pyo.Var(cfa.T, cfa.S, within=pyo.Binary)\n",
    "cfa.gas_qnt = pyo.Var(cfa.T, cfa.S, within=pyo.NonNegativeReals)\n",
    "cfa.ext_qnt = pyo.Var(cfa.T, cfa.S, within=pyo.NonNegativeReals)\n",
    "\n",
    "\n",
    "# Objective function\n",
    "cfa.obj = pyo.Objective(rule=ObjRule, sense=pyo.minimize)\n",
    "        \n",
    "\n",
    "# Constraints\n",
    "cfa.maxPowerGas = pyo.Constraint(cfa.T, cfa.S, rule=maxPowerGasRule)\n",
    "cfa.activationGas = pyo.Constraint(cfa.T, cfa.S, rule=activationGas)\n",
    "cfa.satisfyDemand = pyo.Constraint(cfa.T, cfa.S, rule=satisfyDemand)\n",
    "\n"
   ]
  },
  {
   "cell_type": "markdown",
   "metadata": {},
   "source": [
    "### Solve"
   ]
  },
  {
   "cell_type": "code",
   "execution_count": 25,
   "metadata": {},
   "outputs": [],
   "source": [
    "instance = cfa.create_instance(data)"
   ]
  },
  {
   "cell_type": "code",
   "execution_count": 26,
   "metadata": {},
   "outputs": [],
   "source": [
    "solver = pyo.SolverFactory('appsi_highs')\n",
    "              \n",
    "solver_result = solver.solve(instance, tee=False)\n",
    "                \n",
    "instance.solutions.store_to(solver_result)\n"
   ]
  },
  {
   "cell_type": "code",
   "execution_count": 27,
   "metadata": {},
   "outputs": [
    {
     "data": {
      "text/plain": [
       "5000.0"
      ]
     },
     "execution_count": 27,
     "metadata": {},
     "output_type": "execute_result"
    }
   ],
   "source": [
    "instance.gas_qnt[2,85].value"
   ]
  },
  {
   "cell_type": "code",
   "execution_count": null,
   "metadata": {},
   "outputs": [],
   "source": []
  }
 ],
 "metadata": {
  "kernelspec": {
   "display_name": "surgeryschedulingunderuncertainty-XOZq-E-P-py3.10",
   "language": "python",
   "name": "python3"
  },
  "language_info": {
   "codemirror_mode": {
    "name": "ipython",
    "version": 3
   },
   "file_extension": ".py",
   "mimetype": "text/x-python",
   "name": "python",
   "nbconvert_exporter": "python",
   "pygments_lexer": "ipython3",
   "version": "3.10.13"
  }
 },
 "nbformat": 4,
 "nbformat_minor": 2
}
